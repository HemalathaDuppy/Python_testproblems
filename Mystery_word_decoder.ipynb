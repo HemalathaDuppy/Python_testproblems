{
  "nbformat": 4,
  "nbformat_minor": 0,
  "metadata": {
    "colab": {
      "provenance": [],
      "authorship_tag": "ABX9TyPwOGFHnJ24eiZqZ+vdgAN2",
      "include_colab_link": true
    },
    "kernelspec": {
      "name": "python3",
      "display_name": "Python 3"
    },
    "language_info": {
      "name": "python"
    }
  },
  "cells": [
    {
      "cell_type": "markdown",
      "metadata": {
        "id": "view-in-github",
        "colab_type": "text"
      },
      "source": [
        "<a href=\"https://colab.research.google.com/github/HemalathaDuppy/Python_testproblems/blob/main/Mystery_word_decoder.ipynb\" target=\"_parent\"><img src=\"https://colab.research.google.com/assets/colab-badge.svg\" alt=\"Open In Colab\"/></a>"
      ]
    },
    {
      "cell_type": "code",
      "execution_count": 1,
      "metadata": {
        "colab": {
          "base_uri": "https://localhost:8080/"
        },
        "id": "32QUgUj9W8P9",
        "outputId": "d508b499-3d22-44bd-8149-c1ba87eba9ef"
      },
      "outputs": [
        {
          "output_type": "stream",
          "name": "stdout",
          "text": [
            "Enter the grid (5 rows, 5 letters each):\n",
            "H E L L O\n",
            "N E W L Y \n",
            "L O V E S\n",
            "C A N D Y\n",
            "P L E A S\n",
            "\n",
            "Decoded word: PAOEHSDELO\n"
          ]
        }
      ],
      "source": [
        "def decode(grid):\n",
        "    left = [grid[0][0], grid[1][1], grid[2][1], grid[3][1], grid[4][0]]\n",
        "    left.reverse()\n",
        "    right = [grid[0][4], grid[1][3], grid[2][3], grid[3][3], grid[4][4]]\n",
        "    right.reverse()\n",
        "    return ''.join(left + right)\n",
        "\n",
        "print(\"Enter the grid (5 rows, 5 letters each):\")\n",
        "grid = []\n",
        "for i in range(5):\n",
        "    row = input().split()\n",
        "    if len(row) != 5:\n",
        "        print(\"Please enter exactly 5 letters separated by spaces.\")\n",
        "        exit()\n",
        "    grid.append(row)\n",
        "\n",
        "decoded_word = decode(grid)\n",
        "print(\"\\nDecoded word:\", decoded_word)"
      ]
    }
  ]
}